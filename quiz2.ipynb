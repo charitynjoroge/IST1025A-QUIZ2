{
 "cells": [
  {
   "cell_type": "code",
   "execution_count": null,
   "id": "e1459921",
   "metadata": {},
   "outputs": [],
   "source": [
    "# question 1\n",
    "\n",
    "def grade_classifier(scores):\n",
    "# dictionary to hold grade counts\n",
    "    grade_counts = {\"A\": 0, \"B\": 0, \"C\": 0, \"D\": 0, \"F\": 0}\n",
    "    \n",
    "    # Iteration through each score in the list\n",
    "    for score in scores:\n",
    "        if 90 <= score <= 100:\n",
    "            grade_counts[\"A\"] += 1\n",
    "        elif 80 <= score < 90:\n",
    "            grade_counts[\"B\"] += 1\n",
    "        elif 70 <= score < 80:\n",
    "            grade_counts[\"C\"] += 1\n",
    "        elif 60 <= score < 70:\n",
    "            grade_counts[\"D\"] += 1\n",
    "        elif score < 60:\n",
    "            grade_counts[\"F\"] += 1\n",
    "    \n",
    "    return grade_counts\n",
    "\n",
    "# Example data\n",
    "scores = [85, 92, 45, 74, 60]\n",
    "result = grade_classifier(scores)\n",
    "print(result)  # Output: {\"A\": 1, \"B\": 1, \"C\": 1, \"D\": 1, \"F\": 1}"
   ]
  },
  {
   "cell_type": "code",
   "execution_count": null,
   "id": "c9b99310",
   "metadata": {},
   "outputs": [],
   "source": [
    "#question3 \n",
    "\n",
    "def check_password_strength(pwd):\n",
    "    \"\"\"\n",
    "    Validates password meets security requirements:\n",
    "    - 8+ chars\n",
    "    - At least 1 uppercase\n",
    "    - At least 1 number\n",
    "    - At least 1 special char !@#$%^&*\n",
    "    Returns True if valid\n",
    "    \"\"\"\n",
    "    \n",
    "    if len(pwd) < 8:\n",
    "        print(\"Password too short! Need at least 8 characters\")\n",
    "        return False\n",
    "    \n",
    "    has_upper = any(c.isupper() for c in pwd)\n",
    "    has_digit = any(c.isdigit() for c in pwd)\n",
    "    special_chars = set('!@#$%^&*')\n",
    "    has_special = any(c in special_chars for c in pwd)\n",
    "    \n",
    "    if not has_upper:\n",
    "        print(\"Password needs at least one uppercase letter\")\n",
    "        return False\n",
    "    \n",
    "    if not has_digit:\n",
    "        print(\"Password needs at least one number\")\n",
    "        return False\n",
    "    \n",
    "    if not has_special:\n",
    "        print(\"Password needs at least one special character (!@#$%^&*)\")\n",
    "        return False\n",
    "    \n",
    "    return True\n",
    "\n"
   ]
  }
 ],
 "metadata": {
  "kernelspec": {
   "display_name": "Python 3",
   "language": "python",
   "name": "python3"
  },
  "language_info": {
   "name": "python",
   "version": "3.12.3"
  }
 },
 "nbformat": 4,
 "nbformat_minor": 5
}
