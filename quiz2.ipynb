{
 "cells": [
  {
   "cell_type": "code",
   "execution_count": null,
   "id": "e1459921",
   "metadata": {},
   "outputs": [
    {
     "name": "stdout",
     "output_type": "stream",
     "text": [
      "{'A': 1, 'B': 1, 'C': 1, 'D': 1, 'F': 1}\n"
     ]
    }
   ],
   "source": [
    "# question 1\n",
    "\n",
    "def grade_classifier(scores):\n",
    "# dictionary to hold grade counts\n",
    "    grade_counts = {\"A\": 0, \"B\": 0, \"C\": 0, \"D\": 0, \"F\": 0} # Initialize counts to zero.\n",
    "    \n",
    "    # Iteration through each score in the list.\n",
    "    for score in scores:\n",
    "        if 90 <= score <= 100:\n",
    "            grade_counts[\"A\"] += 1\n",
    "        elif 80 <= score < 90:\n",
    "            grade_counts[\"B\"] += 1\n",
    "        elif 70 <= score < 80:\n",
    "            grade_counts[\"C\"] += 1\n",
    "        elif 60 <= score < 70:\n",
    "            grade_counts[\"D\"] += 1\n",
    "        elif score < 60:\n",
    "            grade_counts[\"F\"] += 1\n",
    "    \n",
    "    return grade_counts \n",
    "\n",
    "# Example data\n",
    "scores = [85, 92, 45, 74, 60] \n",
    "result = grade_classifier(scores) \n",
    "print(result)  # Output: {\"A\": 1, \"B\": 1, \"C\": 1, \"D\": 1, \"F\": 1}."
   ]
  },
  {
   "cell_type": "code",
   "execution_count": 1,
   "id": "1ba9dad8",
   "metadata": {},
   "outputs": [
    {
     "name": "stdout",
     "output_type": "stream",
     "text": [
      "[2, 3, 5, 7, 11, 13, 17, 19, 23, 29]\n"
     ]
    }
   ],
   "source": [
    "#question 2\n",
    "\n",
    "def find_primes(n): # function to find the first n prime numbers\n",
    "    # list to hold prime numbers\n",
    "    primes = []\n",
    "    num = 2\n",
    "    while len(primes) < n: # while the length of the list is less than n\n",
    "        is_prime = True\n",
    "        for i in range(2, int(num ** 0.5) + 1):\n",
    "            if num % i == 0: # if the number is divisible by any number other than 1 and itself\n",
    "                is_prime = False\n",
    "                break\n",
    "        if is_prime: # if the number is prime\n",
    "            # append it to the list\n",
    "            # and increment the counter \n",
    "            primes.append(num)\n",
    "        num += 1\n",
    "    return primes\n",
    "\n",
    "# Example\n",
    "print(find_primes(10)) # Output: [2, 3, 5, 7, 11, 13, 17, 19, 23, 29]"
   ]
  },
  {
   "cell_type": "code",
   "execution_count": 10,
   "id": "c9b99310",
   "metadata": {},
   "outputs": [
    {
     "name": "stdout",
     "output_type": "stream",
     "text": [
      "Password needs at least one uppercase letter\n"
     ]
    }
   ],
   "source": [
    "#question3 \n",
    "\n",
    "def check_password_strength(pwd):\n",
    "    \"\"\"\n",
    "    Validates password meets security requirements:\n",
    "    - 8+ chars\n",
    "    - At least 1 uppercase\n",
    "    - At least 1 number\n",
    "    - At least 1 special char !@#$%^&*\n",
    "    Returns True if valid\n",
    "    \"\"\"\n",
    "    # Check if password is short\n",
    "    if len(pwd) < 8:\n",
    "        print(\"Password too short! Need at least 8 characters\")\n",
    "        return False\n",
    "    \n",
    "    has_upper = any(c.isupper() for c in pwd)\n",
    "    has_digit = any(c.isdigit() for c in pwd)\n",
    "    special_chars = set('!@#$%^&*')\n",
    "    has_special = any(c in special_chars for c in pwd)\n",
    "    # Check if password has at least one uppercase letter\n",
    "    if not has_upper:\n",
    "        print(\"Password needs at least one uppercase letter\")\n",
    "        return False\n",
    "    # Check if password has at least one digit\n",
    "    if not has_digit:\n",
    "        print(\"Password needs at least one number\")\n",
    "        return False\n",
    "    # Check if password has at least one special character\n",
    "    if not has_special:\n",
    "        print(\"Password needs at least one special character (!@#$%^&*)\")\n",
    "        return False\n",
    "    \n",
    "    return True\n",
    "\n",
    "# Example usage:\n",
    "if __name__ == \"__main__\":\n",
    "    password = input(\"Enter your password: \")\n",
    "    check_password_strength(password)"
   ]
  },
  {
   "cell_type": "code",
   "execution_count": 6,
   "id": "ee24eae5",
   "metadata": {},
   "outputs": [
    {
     "name": "stdout",
     "output_type": "stream",
     "text": [
      "1 \n",
      "2 4 \n",
      "3 6 9 \n",
      "4 8 12 16 \n"
     ]
    }
   ],
   "source": [
    "# question 4\n",
    "rows= 4\n",
    "\n",
    "for i in range(1, rows + 1):         # Outer loop for rows\n",
    "    for j in range(1, i + 1):        # Inner loop for elements in each row\n",
    "        print(i * j, end=\" \")        # Print the product of i and j\n",
    "    print()                          # Move to the next line after each row"
   ]
  },
  {
   "cell_type": "code",
   "execution_count": null,
   "id": "38c8e536",
   "metadata": {},
   "outputs": [
    {
     "name": "stdout",
     "output_type": "stream",
     "text": [
      "Nope, that's not a palindrome.\n"
     ]
    }
   ],
   "source": [
    "#question 5\n",
    "\n",
    "def is_palindrome(word):\n",
    "    \"\"\"\n",
    "    Check if a given word is a palindrome.\n",
    "    Ignores case and spaces.\n",
    "    \n",
    "    Args:\n",
    "        word (str): The word to check\n",
    "        \n",
    "    Returns:\n",
    "        bool: True if the word is a palindrome, False otherwise\n",
    "    \"\"\"\n",
    "    # Convert to lowercase and remove spaces\n",
    "    cleaned_word = word.lower().replace(\" \", \"\")\n",
    "    \n",
    "    # Compare the string with its reverse\n",
    "    return cleaned_word == cleaned_word[::-1]\n",
    "\n",
    "# Example usage:\n",
    "if __name__ == \"__main__\":\n",
    "    test_word = input(\"Enter a word or phrase: \") #input from user\n",
    "    # Check if the word is a palindrome\n",
    "    if is_palindrome(test_word):\n",
    "        print(\"Yes! It's a palindrome.\")\n",
    "    else:\n",
    "        print(\"Nope, that's not a palindrome.\")"
   ]
  },
  {
   "cell_type": "code",
   "execution_count": null,
   "id": "434b9096",
   "metadata": {},
   "outputs": [],
   "source": [
    "#group 5\n",
    "\n",
    "#Group 5 members\n",
    "#1.Lenny karanja - 670597\n",
    "#2. Charity Njoroge - 673215\n",
    "#3. ⁠sharon kariuki-672063\n",
    "#4. ⁠Nicholas Nyandigisi 671958\n",
    "#5. Videlis H Nyarigoti -673446\n",
    "#6. ⁠Ali Abed 670910"
   ]
  }
 ],
 "metadata": {
  "kernelspec": {
   "display_name": ".venv",
   "language": "python",
   "name": "python3"
  },
  "language_info": {
   "codemirror_mode": {
    "name": "ipython",
    "version": 3
   },
   "file_extension": ".py",
   "mimetype": "text/x-python",
   "name": "python",
   "nbconvert_exporter": "python",
   "pygments_lexer": "ipython3",
   "version": "3.12.3"
  }
 },
 "nbformat": 4,
 "nbformat_minor": 5
}
