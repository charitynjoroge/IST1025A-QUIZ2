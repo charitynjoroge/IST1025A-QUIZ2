{
 "cells": [
  {
   "cell_type": "code",
   "execution_count": null,
   "id": "e1459921",
   "metadata": {},
   "outputs": [],
   "source": [
    "# question 1\n",
    "\n",
    "def grade_classifier(scores):\n",
    "# dictionary to hold grade counts\n",
    "    grade_counts = {\"A\": 0, \"B\": 0, \"C\": 0, \"D\": 0, \"F\": 0}\n",
    "    \n",
    "    # Iteration through each score in the list\n",
    "    for score in scores:\n",
    "        if 90 <= score <= 100:\n",
    "            grade_counts[\"A\"] += 1\n",
    "        elif 80 <= score < 90:\n",
    "            grade_counts[\"B\"] += 1\n",
    "        elif 70 <= score < 80:\n",
    "            grade_counts[\"C\"] += 1\n",
    "        elif 60 <= score < 70:\n",
    "            grade_counts[\"D\"] += 1\n",
    "        elif score < 60:\n",
    "            grade_counts[\"F\"] += 1\n",
    "    \n",
    "    return grade_counts\n",
    "\n",
    "# Example data\n",
    "scores = [85, 92, 45, 74, 60]\n",
    "result = grade_classifier(scores)\n",
    "print(result)  # Output: {\"A\": 1, \"B\": 1, \"C\": 1, \"D\": 1, \"F\": 1}"
   ]
  }
 ],
 "metadata": {
  "kernelspec": {
   "display_name": "Python 3",
   "language": "python",
   "name": "python3"
  },
  "language_info": {
   "name": "python",
   "version": "3.12.3"
  }
 },
 "nbformat": 4,
 "nbformat_minor": 5
}
